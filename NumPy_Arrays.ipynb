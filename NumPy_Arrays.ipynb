{
 "cells": [
  {
   "cell_type": "markdown",
   "id": "aabb9bce-3c84-4407-9594-be17b428722a",
   "metadata": {},
   "source": [
    "<span style=\"font-size:24px\"> 1.NumPy Basics: Arrays (for urban planning's perspective) </span>\n",
    "\n",
    "NumPy (Numerical Python) is a key library for efficient numerical computing in Python. It stores data in contiguous memory blocks and uses fast C-based algorithms, making it much faster and more memory-efficient than built-in Python sequences. NumPy also eliminates the need for slow Python loops by operating on entire arrays at once.\n",
    "\n",
    "<span style=\"font-size:18px\"> Numpy Arrays: </span> arange(), linspace(), zeros(), ones(), eye(), rand(), randn(), randint()"
   ]
  },
  {
   "cell_type": "code",
   "execution_count": null,
   "id": "42e9e402-78ff-47fc-a9e1-949cbffcac7b",
   "metadata": {},
   "outputs": [],
   "source": [
    "# Import NumPy\n",
    "import numpy as np"
   ]
  },
  {
   "cell_type": "markdown",
   "id": "2fb2deed-c2f6-4c9a-ba39-3e1530800432",
   "metadata": {},
   "source": [
    "<span style=\"font-size:20px\"> 1.1 NumPy Arrays </span>"
   ]
  },
  {
   "cell_type": "markdown",
   "id": "03ca5f09-0bd5-45b0-a7c3-90450bdc3fbb",
   "metadata": {},
   "source": [
    "<span style=\"font-size:18px\"> 1.1.1 arange() </span>"
   ]
  },
  {
   "cell_type": "markdown",
   "id": "f8066536-743d-41c7-98e3-a5b7f10c6f4b",
   "metadata": {},
   "source": [
    "Use of arange() to simulate years for a city's development timeline"
   ]
  },
  {
   "cell_type": "code",
   "execution_count": null,
   "id": "35add805-ad81-4e65-be0f-26c3d20f4211",
   "metadata": {},
   "outputs": [],
   "source": [
    "import numpy as np\n",
    "development = np.arange(2025,2051) #syntax:([start],[stop]) (25 years masterplan)\n",
    "print(\"Years of Development =\\n\",development)"
   ]
  },
  {
   "cell_type": "code",
   "execution_count": null,
   "id": "fe3f42a6-9c91-4c67-a8e6-1e7d55c312e2",
   "metadata": {},
   "outputs": [],
   "source": [
    "import numpy as np\n",
    "development = np.arange(2025,2051,5) #syntax:([start],[stop],step) (Five Years Plan)\n",
    "print(\"Development Phase =\",development)"
   ]
  },
  {
   "cell_type": "code",
   "execution_count": null,
   "id": "ce1325af-3254-4f73-b338-ad0cdec89d0b",
   "metadata": {},
   "outputs": [],
   "source": [
    "import numpy as np\n",
    "development = np.arange(2024,2050,3, dtype=float) #syntax:([start],[stop],step,dtype)\n",
    "print(\"Development Phase =\",development)"
   ]
  },
  {
   "cell_type": "markdown",
   "id": "933757db-6705-46de-8603-7b77b69f6f42",
   "metadata": {},
   "source": [
    "<span style=\"font-size:18px\"> 1.1.2 linspace() </span>"
   ]
  },
  {
   "cell_type": "markdown",
   "id": "c6ca4802-e1fc-4647-84eb-67226a7b0b56",
   "metadata": {},
   "source": [
    "Use linspace() to simulate evenly distributed zones across a city boundary"
   ]
  },
  {
   "cell_type": "code",
   "execution_count": null,
   "id": "b98cc8a1-723a-4b33-898f-ea491af49995",
   "metadata": {},
   "outputs": [],
   "source": [
    "import numpy as np\n",
    "zones = np.linspace(0, 100, 6) #6 zoning divisions across 100 km\n",
    "print(\"Zoning Division =\", zones)"
   ]
  },
  {
   "cell_type": "markdown",
   "id": "9044c7fe-0d31-4302-b0ff-c2e8f155542d",
   "metadata": {},
   "source": [
    "Use \"retstep\" to know the fact behind every division (np.float64(22.11111111111111))"
   ]
  },
  {
   "cell_type": "code",
   "execution_count": null,
   "id": "a5cd2341-9256-4284-b35c-9f8f291aeab7",
   "metadata": {},
   "outputs": [],
   "source": [
    "import numpy as np\n",
    "zones = np.linspace(1,200,10, retstep=True) \n",
    "print(\"Steps of Zoning =\", zones)"
   ]
  },
  {
   "cell_type": "markdown",
   "id": "d1576bd0-2f86-4dd2-8bee-1f2a75ea8ffd",
   "metadata": {},
   "source": [
    "Don't Confuse!<br>\n",
    "* arange() takes 3rd argument as step size. <br>\n",
    "* linspace() take 3rd argument as no of point we want."
   ]
  },
  {
   "cell_type": "markdown",
   "id": "58240e5f-4776-4e8b-a7ae-160489b5786e",
   "metadata": {},
   "source": [
    "<span style=\"font-size:18px\"> 1.1.3 zeros() </span>"
   ]
  },
  {
   "cell_type": "markdown",
   "id": "129a0b4b-3870-49fe-842a-c9e5e42cc171",
   "metadata": {},
   "source": [
    "Suppose we are analyzing 6 city zones and estimating infrastructure costs for 4 types: <br> \n",
    "* Roads, Water Supply, Electricity, Sanitation"
   ]
  },
  {
   "cell_type": "code",
   "execution_count": null,
   "id": "30239c1d-501f-4880-8cf7-d45ac77d18f9",
   "metadata": {},
   "outputs": [],
   "source": [
    "import numpy as np\n",
    "num_zone=6\n",
    "num_infra=4\n",
    "#Create a 2D array (matrix) to store costs (in million dollars, for example)\n",
    "cost_matrix=np.zeros((num_zone,num_infra))\n",
    "print(\"Infrastructure Cost Matrix =\\n\",cost_matrix)"
   ]
  },
  {
   "cell_type": "markdown",
   "id": "f0003245-b690-4eb5-be0a-5ae90556a8ad",
   "metadata": {},
   "source": [
    "Initially filled with 0 because costs haven’t been assigned yet — perfect for modeling or scenario testing."
   ]
  },
  {
   "cell_type": "markdown",
   "id": "d0f06ec7-3d4b-4dc7-8eab-8a0e093def26",
   "metadata": {},
   "source": [
    "<span style=\"font-size:18px\"> 1.1.4 ones() </span>"
   ]
  },
  {
   "cell_type": "markdown",
   "id": "be1b5a81-55b1-4ede-8c2c-1558cdc115cb",
   "metadata": {},
   "source": [
    "Let's say we have 4 types of urban projects (rows) and 6 city zones (columns) <br>\n",
    "We want to start with equal priority score = 1 for every project in every zone"
   ]
  },
  {
   "cell_type": "code",
   "execution_count": null,
   "id": "cb2ff7a8-1125-47ec-acfc-c740b5474c0a",
   "metadata": {},
   "outputs": [],
   "source": [
    "import numpy as np\n",
    "project=4\n",
    "zone=6\n",
    "Priority=np.ones((project,zone))\n",
    "print(\"Project Priority Matrix =\\n\", Priority)"
   ]
  },
  {
   "cell_type": "markdown",
   "id": "6b0a7225-75d2-461a-bd82-f9208e07c720",
   "metadata": {},
   "source": [
    "<span style=\"font-size:18px\"> 1.1.5 eye() </span>"
   ]
  },
  {
   "cell_type": "markdown",
   "id": "c034c23a-4111-467f-b94f-a48eddf3b2f4",
   "metadata": {},
   "source": [
    "Let's say we have 4 city zones. We want to create an identity matrix where:<br>\n",
    "* 1 = zone gives top priority to its own internal development\n",
    "* 0 = no priority to other zones"
   ]
  },
  {
   "cell_type": "code",
   "execution_count": null,
   "id": "33364e5e-20cf-479b-b0f4-a392c5d92f12",
   "metadata": {},
   "outputs": [],
   "source": [
    "import numpy as np\n",
    "priory_zone=np.eye(4)\n",
    "print(\"Priority Zone Matrix =\\n\", priory_zone)"
   ]
  },
  {
   "cell_type": "markdown",
   "id": "fc1e455b-b4e6-49d4-8732-5b4678587153",
   "metadata": {},
   "source": [
    "<span style=\"font-size:18px\"> 1.1.6 rand() </span>"
   ]
  },
  {
   "cell_type": "markdown",
   "id": "415226d9-b592-4f83-9a4e-c9ca7b64db62",
   "metadata": {},
   "source": [
    "Let's say we have 5 city zones (rows) and 3 types of land use availability (columns):<br>\n",
    "* Residential Land, Commercial Land, Green/Open Space"
   ]
  },
  {
   "cell_type": "code",
   "execution_count": null,
   "id": "5f82fce2-eb3d-43a5-9391-845ed5b476ae",
   "metadata": {},
   "outputs": [],
   "source": [
    "import numpy as np\n",
    "land_use_availability=np.random.rand(5,3)\n",
    "print(\"Simulated land use availability (values between 0 and 1):\\n\")\n",
    "print(\"Rows = Zones | Columns = [Residential, Commercial, Green Space]\\n\")\n",
    "print(land_use_availability)"
   ]
  },
  {
   "cell_type": "markdown",
   "id": "fcfbb2bc-3470-40f1-92ce-b233cfbd1064",
   "metadata": {},
   "source": [
    "<span style=\"font-size:18px\"> 1.1.7 randn() </span>"
   ]
  },
  {
   "cell_type": "markdown",
   "id": "37b83889-0057-485b-8a2d-f3a7997140ba",
   "metadata": {},
   "source": [
    "Simulate traffic fluctuation (in 1000 vehicles) across 5 zones over 7 days"
   ]
  },
  {
   "cell_type": "code",
   "execution_count": null,
   "id": "ff0de69d-d6e5-4506-ba6a-14a3d98fdc2b",
   "metadata": {},
   "outputs": [],
   "source": [
    "import numpy as np\n",
    "traffic_fluc=np.random.randn(5,7)\n",
    "print(\"Traffic Fluctuation,=\\n\", traffic_fluc)"
   ]
  },
  {
   "cell_type": "markdown",
   "id": "9e17d8ac-27d1-4d31-9397-b287c61378a0",
   "metadata": {},
   "source": [
    "<span style=\"font-size:18px\"> 1.1.8 randint() </span>"
   ]
  },
  {
   "cell_type": "markdown",
   "id": "edfe8b07-93eb-4896-b088-14aa6deb42f7",
   "metadata": {},
   "source": [
    "Simulate the number of new buildings constructed in 6 zones over 4 years"
   ]
  },
  {
   "cell_type": "code",
   "execution_count": null,
   "id": "9713d21e-3228-45ad-b40e-13a039a8458c",
   "metadata": {},
   "outputs": [],
   "source": [
    "import numpy as np\n",
    "building_sim=np.random.randint(50,200,size=(6,4))\n",
    "print(\"Building Simulation =\\n\", building_sim)"
   ]
  }
 ],
 "metadata": {
  "kernelspec": {
   "display_name": "Python 3 (ipykernel)",
   "language": "python",
   "name": "python3"
  },
  "language_info": {
   "codemirror_mode": {
    "name": "ipython",
    "version": 3
   },
   "file_extension": ".py",
   "mimetype": "text/x-python",
   "name": "python",
   "nbconvert_exporter": "python",
   "pygments_lexer": "ipython3",
   "version": "3.13.4"
  }
 },
 "nbformat": 4,
 "nbformat_minor": 5
}
